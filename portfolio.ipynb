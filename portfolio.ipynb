{
  "nbformat": 4,
  "nbformat_minor": 0,
  "metadata": {
    "colab": {
      "provenance": [],
      "authorship_tag": "ABX9TyOj4KHAgEFnXuc6v0RhwJb0",
      "include_colab_link": true
    },
    "kernelspec": {
      "name": "python3",
      "display_name": "Python 3"
    },
    "language_info": {
      "name": "python"
    }
  },
  "cells": [
    {
      "cell_type": "markdown",
      "metadata": {
        "id": "view-in-github",
        "colab_type": "text"
      },
      "source": [
        "<a href=\"https://colab.research.google.com/github/dotsnangles/portfolio/blob/main/portfolio.ipynb\" target=\"_parent\"><img src=\"https://colab.research.google.com/assets/colab-badge.svg\" alt=\"Open In Colab\"/></a>"
      ]
    },
    {
      "cell_type": "code",
      "source": [
        "print('save it!')"
      ],
      "metadata": {
        "colab": {
          "base_uri": "https://localhost:8080/"
        },
        "id": "TBuM9BkABjNF",
        "outputId": "f603240d-d169-4589-8500-b8e6bb9e6a4d"
      },
      "execution_count": 1,
      "outputs": [
        {
          "output_type": "stream",
          "name": "stdout",
          "text": [
            "save it!\n"
          ]
        }
      ]
    },
    {
      "cell_type": "markdown",
      "source": [
        "- 유사도 기반 문서 추천\n",
        "- 개체명 인식\n",
        "- 문서 분류\n",
        "- 토큰 분류\n",
        "\n",
        "\n",
        "- 문서 생성\n",
        "- 문서 요약\n",
        "- 기계 번역"
      ],
      "metadata": {
        "id": "ZNc-sbFEFPcz"
      }
    },
    {
      "cell_type": "markdown",
      "source": [
        "# 직무 경험\n",
        "\n",
        "- 데이터 수집 및 정제\n",
        "- 전처리 및 증식\n",
        "- 라벨 검수 및 수정\n",
        "- 훈련 및 검증\n",
        "- 추론 및 후처리\n",
        "- 백엔드 API 작성 및 데이터베이스 연동\n",
        "- 분석 및 시각화"
      ],
      "metadata": {
        "id": "emVFWq0EWzWI"
      }
    },
    {
      "cell_type": "markdown",
      "source": [
        "# 개발 환경 및 도구\n",
        "\n",
        "- Ubuntu, Windows\n",
        "- AWS EC2, WSL2, Colab, \n",
        "- Git/Github, Papermill, WandB\n",
        "- PyTorch, Tensorflow, Huggingface, Sentence-Transformers, Scikit-learn, Gensim, OpenCV, NumPy, Pandas, Matplotlib\n",
        "- BeautifulSoup, Selenium\n",
        "- Flask, MySQL, SQLAlchemy, Marshmallow"
      ],
      "metadata": {
        "id": "bH-Qr8u3aiHT"
      }
    },
    {
      "cell_type": "markdown",
      "source": [
        "# 수행 프로젝트"
      ],
      "metadata": {
        "id": "ObJPK_DFfFGg"
      }
    },
    {
      "cell_type": "markdown",
      "source": [
        "### NPL 기반 항만 안전사고 인과 모델 생성을 위한 학습 DB구축 참여 - 한국철도기술원 위임 용역\n",
        "\n",
        "개체명 인식\n",
        "\n",
        "- 사고 환경 정보 취합을 위한 BERT-LSTM-CRF 개체명 인식 모델 개발 및 보고서 작성\n",
        "- 논문 탐색 및 요약 정리\n",
        "- 추론 및 후처리를 위한 스크립트 작성\n",
        "- 후속 연구 제안"
      ],
      "metadata": {
        "id": "FEJn9JL6QLg2"
      }
    },
    {
      "cell_type": "markdown",
      "source": [
        "### 신문기사 수집 및 분석을 통한 민관 맞춤 알선 시스템 개발 - 용역\n",
        "\n",
        "문서 수집 및 정제, 규칙 기반 문서 선별, 유사도 기반 문서 추천\n",
        "\n",
        "- 검색어와 기관명 조합을 통한 네이버뉴스 신문기사 수집\n",
        "- 기사 내 단어 등장 빈도를 기준으로 신문기사의 유효성 검증\n",
        "- 사전학습된 SBERT를 활용한 유사도 기반 문서 추천\n",
        "- 추천된 신문기사에 해당되는 공공기관을 의뢰 업체에게 제안"
      ],
      "metadata": {
        "id": "OC1mTNUPj-YW"
      }
    },
    {
      "cell_type": "markdown",
      "source": [
        "### 교육 자료 개발 - 용역\n",
        "\n",
        "- 논문 탐색 및 요약 정리\n",
        "- 구현 코드 탐색 및 Tensorflow-PyTorch 번역\n",
        "- 폐렴 및 부정맥 진단 보조 의료 인공지능\n",
        "- YOLOV4/5/7을 활용한 객체 인식\n",
        "- StyleGAN / CycleGAN 데모"
      ],
      "metadata": {
        "id": "ff98t1Qdka6S"
      }
    },
    {
      "cell_type": "markdown",
      "source": [
        "### 감성 대화 챗봇 개발 - 부트캠프 프로젝트 평가 1위\n",
        "\n",
        "유사도 기반 문서 추천, 챗봇 구현, 백엔드 구축\n",
        "\n",
        "- 유사도 기반 문서 추천 기반 챗봇\n",
        "- Poly Encoder를 활용한 챗봇 시스템 구상 및 구현\n",
        "- 효과적인 유사도 훈련을 위한 데이터 구성 방법 고안\n",
        "- 모델 활용을 위한 데이터베이스 구축 및 REST API 작성\n"
      ],
      "metadata": {
        "id": "BCms-ho1QXjP"
      }
    },
    {
      "cell_type": "markdown",
      "source": [
        "### 온라인 쇼핑몰 상품평 속성 기반 감성 분석\n",
        "\n",
        "문서 분류, 개체명 인식, 문서 자료 증식, 모델 파이프라인, 모델 앙상블\n",
        "\n",
        "- 문서쌍을 입력으로 하는 분류 모델 개발\n",
        "- 훈련 데이터 수정을 통한 개체명 인식 모델 개발\n",
        "- 모델 파이프라인 구축 및 시험\n",
        "- 각종 문서 자료 증식 기법 구현 및 정리"
      ],
      "metadata": {
        "id": "O2yscJZNmcz8"
      }
    },
    {
      "cell_type": "markdown",
      "source": [
        "### BART를 활용한 회의록 요약\n",
        "\n",
        "문서 요약, 문서 자료 증식, Decoding methods\n",
        "\n",
        "- Encoder-Decoder 계열 사전학습모델을 파인튜닝하여 문서 요약 모델 개발\n",
        "- Easy Data Augmentation 기법을 구현하여 증식 수행\n",
        "- Public 7위 (전체 489팀/연습참가)\n",
        "- Decoding methods 정리 (Greedy Search, Beam Search, Sampling)"
      ],
      "metadata": {
        "id": "u7zoKG2M_8EO"
      }
    },
    {
      "cell_type": "markdown",
      "source": [
        "### 신문기사 주제 분류\n",
        "\n",
        "문서 분류, 문서 자료 증식, 모델 앙상블\n",
        "\n",
        "- BERT 계열 사전학습모델을 파인튜닝하여 문서 분류 모델 개발\n",
        "- 백트랜슬레이션 증식 수행\n",
        "- Public 19위 (전체 418팀/연습참가)"
      ],
      "metadata": {
        "id": "j8VVAYlhQSZc"
      }
    },
    {
      "cell_type": "markdown",
      "source": [
        "### Music VAE를 활용한 드럼 비트 생성\n",
        "\n",
        "- Magenta 라이브러리를 활용한 미디 데이터 생성\n",
        "- 논문에서 제한하는 구조의 모델 정의\n",
        "- 훈련 후 샘플링 및 Inerpolation 진행"
      ],
      "metadata": {
        "id": "JX0UUcX0RO4t"
      }
    },
    {
      "cell_type": "markdown",
      "source": [
        "### T5를 활용한 한영/영한 번역\n",
        "\n",
        "기계 번역, 벤치마크\n",
        "\n",
        "- 다중 언어 T5를 파인튜닝하여 한영 번역기와 영한 번역기를 개발\n",
        "- 토크나이저의 사전 크기를 고려해 10일 정도에 걸쳐 훈련을 진행\n",
        "- 수렴 이후 충분한 성능을 발휘하는 것을 BLEU 스코어를 통해 검증"
      ],
      "metadata": {
        "id": "72Jr2H8I_5jN"
      }
    },
    {
      "cell_type": "markdown",
      "source": [
        "### GPT를 활용한 도메인 특정 문서 생성\n",
        "\n",
        "문서 생성, 문서 수집 및 정제\n",
        "\n",
        "- 여러 장르의 시 문서를 웹 크롤링을 통해 수집 후 정제\n",
        "- GPT-2의 성능을 검증하기 위해 파인튜닝 후 샘플링 기법을 적용하여 문서를 생성"
      ],
      "metadata": {
        "id": "M8iObptd_4A_"
      }
    }
  ]
}